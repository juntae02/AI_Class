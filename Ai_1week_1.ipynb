{
  "nbformat": 4,
  "nbformat_minor": 0,
  "metadata": {
    "colab": {
      "provenance": [],
      "authorship_tag": "ABX9TyO/pl6matF1sNwypBL5Dfei",
      "include_colab_link": true
    },
    "kernelspec": {
      "name": "python3",
      "display_name": "Python 3"
    },
    "language_info": {
      "name": "python"
    }
  },
  "cells": [
    {
      "cell_type": "markdown",
      "metadata": {
        "id": "view-in-github",
        "colab_type": "text"
      },
      "source": [
        "<a href=\"https://colab.research.google.com/github/juntae02/AI_Class/blob/main/Ai_1week.ipynb\" target=\"_parent\"><img src=\"https://colab.research.google.com/assets/colab-badge.svg\" alt=\"Open In Colab\"/></a>"
      ]
    },
    {
      "cell_type": "code",
      "source": [
        "import numpy as np\n",
        "import torch"
      ],
      "metadata": {
        "id": "IlGlOtwyLU86"
      },
      "execution_count": null,
      "outputs": []
    },
    {
      "cell_type": "markdown",
      "source": [
        "# Day 1"
      ],
      "metadata": {
        "id": "ooHG8IANMmxN"
      }
    },
    {
      "cell_type": "markdown",
      "source": [
        "##파이썬"
      ],
      "metadata": {
        "id": "mDHKAOV6RCzS"
      }
    },
    {
      "cell_type": "code",
      "source": [
        "## 파이썬 - Container Objects\n",
        "fruit = ['apple', 'banana', 'orange']\n",
        "tup = ('apple', 'banana', 'watermelon', 'cucumber')\n",
        "\n",
        "# 1. 인덱싱 => 값 반환\n",
        "print(fruit[1])\n",
        "print(tup[0])\n",
        "\n",
        "# 2. 슬라이싱 : 컨테이너로 반환\n",
        "print(fruit[1:2])\n",
        "print(tup[0:1])   # 출력 주\n",
        "\n",
        "print(\"=\"*50)\n",
        "# 3. 딕셔너리는 key로 접근\n",
        "flower_price ={'rose': 10000, 'iris': 3000, 'stargauge': 12000}\n",
        "print(flower_price.items(), '\\n')   # key&value 쌍을 tuple로 묶음. 그리고 그 튜플들을 리스트로 묶음!!\n",
        "print(flower_price.keys(), '\\n')    # key 값들을 리스트로 묶음\n",
        "print(flower_price.values(), '\\n')  # value 값들을 리스트로 묶음\n",
        "\n",
        "# 4. 딕셔너리 POP\n",
        "print(flower_price)\n",
        "# flower_price['daisy'] = flower_price['iris']        # 맨 뒤에 'daisy' 추가\n",
        "flower_price['daisy'] = flower_price.pop('iris')      # .pop()으로 'iris' 삭제 + 맨 뒤에 'daisy' 추가\n",
        "print(flower_price)"
      ],
      "metadata": {
        "colab": {
          "base_uri": "https://localhost:8080/"
        },
        "id": "0b8HRTmcL1Mi",
        "outputId": "fcccacda-fe21-4d4e-b48a-8c1f2953c6f3"
      },
      "execution_count": null,
      "outputs": [
        {
          "output_type": "stream",
          "name": "stdout",
          "text": [
            "banana\n",
            "apple\n",
            "['banana']\n",
            "('apple',)\n",
            "==================================================\n",
            "dict_items([('rose', 10000), ('iris', 3000), ('stargauge', 12000)]) \n",
            "\n",
            "dict_keys(['rose', 'iris', 'stargauge']) \n",
            "\n",
            "dict_values([10000, 3000, 12000]) \n",
            "\n",
            "{'rose': 10000, 'iris': 3000, 'stargauge': 12000}\n",
            "{'rose': 10000, 'stargauge': 12000, 'daisy': 3000}\n"
          ]
        }
      ]
    },
    {
      "cell_type": "code",
      "source": [
        "## 파이썬 - 함수\n",
        "# 1. type hint (':' 변수의 자료형, '->' 결과값의 자료형)\n",
        "def addNum(num1: int, num2: int = -1) -> float:     # num2는 디폴트 값 설정\n",
        "    sum = num1 + num2\n",
        "    sub = num1 - num2\n",
        "    return float(sum), float(sub)\n",
        "result = addNum(10, 2)      # tuple로 값 받음, 변수 2개이면 따로 저장 가\n",
        "print(\"result = \", result)\n",
        "\n",
        "# ex) def addNum() -> list:\n",
        "# ex) def addNum() -> list[int]:"
      ],
      "metadata": {
        "colab": {
          "base_uri": "https://localhost:8080/"
        },
        "id": "FthGHeD8O2TX",
        "outputId": "903a39ae-188e-4197-e067-448df56fbc86"
      },
      "execution_count": null,
      "outputs": [
        {
          "output_type": "stream",
          "name": "stdout",
          "text": [
            "result =  (12.0, 8.0)\n"
          ]
        }
      ]
    },
    {
      "cell_type": "code",
      "source": [
        "## 파이썬 - 클래스\n",
        "# 부모 클래스\n",
        "class Calculator:\n",
        "  def __init__(self, a: int, b: int):\n",
        "    self.result = 0\n",
        "    self.a = a\n",
        "    self.b = b\n",
        "  def add(self):\n",
        "    self.result = self.a + self.b\n",
        "    return self.result\n",
        "\n",
        "x = Calculator(2, 3)\n",
        "print(x.add())\n",
        "\n",
        "# 자식 클래스\n",
        "class Calculator2(Calculator):\n",
        "  def __init__(self, a, b, c):\n",
        "    super().__init__(a, b)\n",
        "    self.c = c\n",
        "  def mul(self):\n",
        "    self.result = self.a * self.b\n",
        "    return self.result\n",
        "\n",
        "  # 객체 호출 함수\n",
        "  def __str__(self):\n",
        "    return str(self.c)\n",
        "  # 같은 의미\n",
        "  # def __call__(self):   => numpy\n",
        "  # def __forward(self):  => torch\n",
        "\n",
        "x2 = Calculator2(2, 3, 7)\n",
        "print(x2.add())\n",
        "print(x2.mul())\n",
        "print(x2)"
      ],
      "metadata": {
        "colab": {
          "base_uri": "https://localhost:8080/"
        },
        "id": "vONg-6hSRM8D",
        "outputId": "a4d55fd4-f911-4341-ceff-00278f4d5051"
      },
      "execution_count": null,
      "outputs": [
        {
          "output_type": "stream",
          "name": "stdout",
          "text": [
            "5\n",
            "5\n",
            "6\n",
            "7\n"
          ]
        }
      ]
    },
    {
      "cell_type": "markdown",
      "source": [
        "##넘파이"
      ],
      "metadata": {
        "id": "Mnr03e1uRIgf"
      }
    },
    {
      "cell_type": "code",
      "execution_count": null,
      "metadata": {
        "colab": {
          "base_uri": "https://localhost:8080/"
        },
        "id": "5ob698FZJgbG",
        "outputId": "2796daea-10eb-4c0d-8397-c0d2d6dfbfdb"
      },
      "outputs": [
        {
          "output_type": "stream",
          "name": "stdout",
          "text": [
            "5\n",
            "[5 7 9]\n"
          ]
        }
      ],
      "source": [
        "## 넘파이 생성 1\n",
        "x1 = np.array(5)\n",
        "x2 = np.array([5, 7, 9])\n",
        "print(x1)\n",
        "print(x2)"
      ]
    },
    {
      "cell_type": "code",
      "source": [
        "## 얕은 복사와 깊은 복사\n",
        "# 1. 얕은 복사: 주소 복사\n",
        "y = x2\n",
        "x2[1] = -1\n",
        "print(x2, \"||\", y)    # x 변하면 y도 변환, 반대 상황도 같음\n",
        "\n",
        "# 2. 깊은 복사 : 값 복사    => x와 y는 별개로 변환\n",
        "y = x2.copy()\n",
        "x2[1] = 7\n",
        "print(x2, \"||\", y)"
      ],
      "metadata": {
        "colab": {
          "base_uri": "https://localhost:8080/"
        },
        "id": "xxdAlwhqKLrd",
        "outputId": "f75dec8f-ebf3-4cce-96f7-253deaf1674b"
      },
      "execution_count": null,
      "outputs": [
        {
          "output_type": "stream",
          "name": "stdout",
          "text": [
            "[ 5 -1  9] || [ 5 -1  9]\n",
            "[5 7 9] || [ 5 -1  9]\n",
            "[5 7 9] || [ 5 -1  3]\n"
          ]
        }
      ]
    },
    {
      "cell_type": "code",
      "source": [
        "## 넘파이 생성 2\n",
        "x = np.arange(-2, 2, 0.25)  # -2부터 2까지 0.25 간격\n",
        "print(x)"
      ],
      "metadata": {
        "id": "4bODljV4YzeX",
        "colab": {
          "base_uri": "https://localhost:8080/"
        },
        "outputId": "56a992ad-2351-4bf3-f81e-51b84f7849a1"
      },
      "execution_count": null,
      "outputs": [
        {
          "output_type": "stream",
          "name": "stdout",
          "text": [
            "[-2.   -1.75 -1.5  -1.25 -1.   -0.75 -0.5  -0.25  0.    0.25  0.5   0.75\n",
            "  1.    1.25  1.5   1.75]\n"
          ]
        }
      ]
    },
    {
      "cell_type": "code",
      "source": [
        "## 넘파이 생성 3\n",
        "np.linspace(0, 10, 100) # 찾아보기"
      ],
      "metadata": {
        "id": "jyna9iOOxBlW"
      },
      "execution_count": null,
      "outputs": []
    },
    {
      "cell_type": "markdown",
      "source": [
        "## 텐서"
      ],
      "metadata": {
        "id": "Ut3knJ8FqrCv"
      }
    },
    {
      "cell_type": "code",
      "source": [
        "## 텐서 생성\n",
        "# 텐서 생성하면 float?? 1.\n",
        "x1 = torch.ones(5)\n",
        "print(x1)   # 5개\n",
        "\n",
        "x2 = torch.ones(2, 3)\n",
        "print(x2)   # 2행 3열, 2차원\n",
        "\n",
        "x3 = torch.ones(2, 3, 2)\n",
        "print(x3)   # 3행 2열이 2개, 3차원"
      ],
      "metadata": {
        "colab": {
          "base_uri": "https://localhost:8080/"
        },
        "id": "fssLsS_iqxU5",
        "outputId": "1310ef32-835a-4cfc-c705-f96de0af2f8f"
      },
      "execution_count": null,
      "outputs": [
        {
          "output_type": "stream",
          "name": "stdout",
          "text": [
            "tensor([1., 1., 1., 1., 1.])\n",
            "tensor([[1., 1., 1.],\n",
            "        [1., 1., 1.]])\n",
            "tensor([[[1., 1.],\n",
            "         [1., 1.],\n",
            "         [1., 1.]],\n",
            "\n",
            "        [[1., 1.],\n",
            "         [1., 1.],\n",
            "         [1., 1.]]])\n"
          ]
        }
      ]
    },
    {
      "cell_type": "code",
      "source": [
        "## 텐서 -> 넘파이\n",
        "x2 = x1.data.numpy() # 주소 복사\n",
        "\n",
        "x3 = x1.data.numpy().copy() # 값만 복사\n",
        "\n",
        "x1[1] = -1 # 인덱싱과 슬라이싱 둘 다 가능\n",
        "\n",
        "print(x1)\n",
        "print(type(x1))\n",
        "print()\n",
        "print(x2)    # x1값을 변경하면, x2도 변경 됨 (주소를 복사해서)\n",
        "print(x3)    # x1값을 변경해도 x3는 변경 안됨 (값을 복사해서)\n",
        "print(type(x2))\n",
        "print(type(x3))\n"
      ],
      "metadata": {
        "colab": {
          "base_uri": "https://localhost:8080/"
        },
        "id": "zOlbBCFyrzP2",
        "outputId": "0f0bae41-182e-4e44-b075-38ecaa742515"
      },
      "execution_count": null,
      "outputs": [
        {
          "output_type": "stream",
          "name": "stdout",
          "text": [
            "tensor([ 1., -1.,  1.,  1.,  1.])\n",
            "<class 'torch.Tensor'>\n",
            "\n",
            "[ 1. -1.  1.  1.  1.]\n",
            "[1. 1. 1. 1. 1.]\n",
            "<class 'numpy.ndarray'>\n",
            "<class 'numpy.ndarray'>\n"
          ]
        }
      ]
    },
    {
      "cell_type": "markdown",
      "source": [
        "## 매트플롯립"
      ],
      "metadata": {
        "id": "ExSAdN26wEuE"
      }
    },
    {
      "cell_type": "code",
      "source": [
        "# 서브플롯 생성 함수, (행, 수, 서브플롯의 위치)\n",
        "# ax = plt.subplot(nrows, ncols, index)\n",
        "ax1 = plt.subplot(2, 2, 1)\n",
        "ax1.plot(x, y1, color='blue')\n",
        "\n",
        "# 데이터를 그래프 그리는 함수\n",
        "plt.plot(x, y)\n",
        "\n",
        "# 클래스로 원 생성\n",
        "patches.Circle(xy=(self.x, self.y), radius=self.r, fc='b', ec='k')\n",
        "# (xy = (원의 중심 좌표), radius=반지름)\n",
        "# 생성된 원을 Axes에 추가\n",
        "ax.add_patch(c)"
      ],
      "metadata": {
        "id": "XBBojUxWwIoR"
      },
      "execution_count": null,
      "outputs": []
    }
  ]
}
